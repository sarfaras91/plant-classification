{
 "cells": [
  {
   "cell_type": "code",
   "execution_count": 11,
   "metadata": {},
   "outputs": [],
   "source": [
    "import tensorflow as tf\n",
    "from tensorflow.keras.preprocessing.image import ImageDataGenerator\n",
    "from tensorflow.keras.applications import InceptionV3\n",
    "from tensorflow.keras import layers, models\n",
    "from tensorflow.keras.callbacks import EarlyStopping, ModelCheckpoint"
   ]
  },
  {
   "cell_type": "code",
   "execution_count": 12,
   "metadata": {},
   "outputs": [],
   "source": [
    "dataset_dir = 'plantvillage dataset'"
   ]
  },
  {
   "cell_type": "code",
   "execution_count": 13,
   "metadata": {},
   "outputs": [],
   "source": [
    "datagen = ImageDataGenerator(\n",
    "    rescale=1./255,\n",
    "    validation_split=0.2,  # 80% train, 20% validation\n",
    "    rotation_range=20,\n",
    "    width_shift_range=0.2,\n",
    "    height_shift_range=0.2,\n",
    "    shear_range=0.2,\n",
    "    zoom_range=0.2,\n",
    "    horizontal_flip=True,\n",
    "    fill_mode='nearest'\n",
    ")"
   ]
  },
  {
   "cell_type": "code",
   "execution_count": 14,
   "metadata": {},
   "outputs": [
    {
     "name": "stdout",
     "output_type": "stream",
     "text": [
      "Found 25541 images belonging to 10 classes.\n"
     ]
    }
   ],
   "source": [
    "# Training generator (subset='training')\n",
    "train_generator = datagen.flow_from_directory(\n",
    "    dataset_dir,\n",
    "    target_size=(224, 224),\n",
    "    batch_size=64,\n",
    "    class_mode='categorical',\n",
    "    subset='training',  # Set as training data\n",
    "    shuffle=True  # Shuffle training data\n",
    ")"
   ]
  },
  {
   "cell_type": "code",
   "execution_count": 15,
   "metadata": {},
   "outputs": [
    {
     "name": "stdout",
     "output_type": "stream",
     "text": [
      "Found 6381 images belonging to 10 classes.\n"
     ]
    }
   ],
   "source": [
    "# Validation generator (subset='validation')\n",
    "val_generator = datagen.flow_from_directory(\n",
    "    dataset_dir,\n",
    "    target_size=(224, 224),\n",
    "    batch_size=64,\n",
    "    class_mode='categorical',\n",
    "    subset='validation',  \n",
    "    shuffle=True  \n",
    ")"
   ]
  },
  {
   "cell_type": "code",
   "execution_count": 16,
   "metadata": {},
   "outputs": [],
   "source": [
    "# Define ModelCheckpoint callback to save the best model\n",
    "checkpoint = ModelCheckpoint(\n",
    "    filepath='best_model.h5',  \n",
    "    monitor='val_loss',        # Metric to monitor\n",
    "    save_best_only=True,       # Save only the model with the best performance\n",
    "    save_weights_only=True,    # Save only the weights, not the entire model\n",
    "    verbose=1\n",
    ")"
   ]
  },
  {
   "cell_type": "code",
   "execution_count": 17,
   "metadata": {},
   "outputs": [],
   "source": [
    "base_model = InceptionV3(\n",
    "    weights='imagenet', include_top=False, input_shape=(224, 224, 3))"
   ]
  },
  {
   "cell_type": "code",
   "execution_count": 18,
   "metadata": {},
   "outputs": [],
   "source": [
    "# Unfreeze some layers in the base model for fine-tuning\n",
    "base_model.trainable = True\n",
    "\n",
    "# Freeze the first N layers (e.g., the first 100 layers)\n",
    "for layer in base_model.layers[:100]:\n",
    "    layer.trainable = False"
   ]
  },
  {
   "cell_type": "code",
   "execution_count": 19,
   "metadata": {},
   "outputs": [],
   "source": [
    "model = models.Sequential([\n",
    "    base_model,\n",
    "    layers.GlobalAveragePooling2D(),\n",
    "    layers.Dense(256, activation='relu'),\n",
    "    layers.Dropout(0.5),\n",
    "    layers.Dense(train_generator.num_classes, activation='softmax')\n",
    "])"
   ]
  },
  {
   "cell_type": "code",
   "execution_count": 20,
   "metadata": {},
   "outputs": [],
   "source": [
    "model.compile(optimizer='adam', loss='categorical_crossentropy',\n",
    "              metrics=['accuracy'])"
   ]
  },
  {
   "cell_type": "code",
   "execution_count": 21,
   "metadata": {},
   "outputs": [
    {
     "name": "stdout",
     "output_type": "stream",
     "text": [
      "Epoch 1/10\n",
      "400/400 [==============================] - ETA: 0s - loss: 0.2130 - accuracy: 0.9421\n",
      "Epoch 1: val_loss improved from inf to 0.26082, saving model to best_model.h5\n",
      "400/400 [==============================] - 669s 2s/step - loss: 0.2130 - accuracy: 0.9421 - val_loss: 0.2608 - val_accuracy: 0.9467\n",
      "Epoch 2/10\n",
      "400/400 [==============================] - ETA: 0s - loss: 0.0863 - accuracy: 0.9770\n",
      "Epoch 2: val_loss did not improve from 0.26082\n",
      "400/400 [==============================] - 487s 1s/step - loss: 0.0863 - accuracy: 0.9770 - val_loss: 0.4515 - val_accuracy: 0.8930\n",
      "Epoch 3/10\n",
      "400/400 [==============================] - ETA: 0s - loss: 0.0885 - accuracy: 0.9783\n",
      "Epoch 3: val_loss improved from 0.26082 to 0.16417, saving model to best_model.h5\n",
      "400/400 [==============================] - 465s 1s/step - loss: 0.0885 - accuracy: 0.9783 - val_loss: 0.1642 - val_accuracy: 0.9563\n",
      "Epoch 4/10\n",
      "400/400 [==============================] - ETA: 0s - loss: 0.0440 - accuracy: 0.9884\n",
      "Epoch 4: val_loss improved from 0.16417 to 0.07374, saving model to best_model.h5\n",
      "400/400 [==============================] - 490s 1s/step - loss: 0.0440 - accuracy: 0.9884 - val_loss: 0.0737 - val_accuracy: 0.9823\n",
      "Epoch 5/10\n",
      "400/400 [==============================] - ETA: 0s - loss: 0.0430 - accuracy: 0.9892\n",
      "Epoch 5: val_loss improved from 0.07374 to 0.01996, saving model to best_model.h5\n",
      "400/400 [==============================] - 409s 1s/step - loss: 0.0430 - accuracy: 0.9892 - val_loss: 0.0200 - val_accuracy: 0.9939\n",
      "Epoch 6/10\n",
      "400/400 [==============================] - ETA: 0s - loss: 0.0696 - accuracy: 0.9827\n",
      "Epoch 6: val_loss did not improve from 0.01996\n",
      "400/400 [==============================] - 457s 1s/step - loss: 0.0696 - accuracy: 0.9827 - val_loss: 0.1360 - val_accuracy: 0.9745\n",
      "Epoch 7/10\n",
      "400/400 [==============================] - ETA: 0s - loss: 0.0842 - accuracy: 0.9796\n",
      "Epoch 7: val_loss did not improve from 0.01996\n",
      "400/400 [==============================] - 1494s 4s/step - loss: 0.0842 - accuracy: 0.9796 - val_loss: 0.0597 - val_accuracy: 0.9837\n",
      "Epoch 8/10\n",
      "400/400 [==============================] - ETA: 0s - loss: 0.0461 - accuracy: 0.9890\n",
      "Epoch 8: val_loss did not improve from 0.01996\n",
      "400/400 [==============================] - 1061s 3s/step - loss: 0.0461 - accuracy: 0.9890 - val_loss: 0.0304 - val_accuracy: 0.9904\n",
      "Epoch 9/10\n",
      "400/400 [==============================] - ETA: 0s - loss: 0.0408 - accuracy: 0.9897\n",
      "Epoch 9: val_loss did not improve from 0.01996\n",
      "400/400 [==============================] - 574s 1s/step - loss: 0.0408 - accuracy: 0.9897 - val_loss: 0.0416 - val_accuracy: 0.9882\n",
      "Epoch 10/10\n",
      "400/400 [==============================] - ETA: 0s - loss: 0.0325 - accuracy: 0.9910\n",
      "Epoch 10: val_loss did not improve from 0.01996\n",
      "400/400 [==============================] - 504s 1s/step - loss: 0.0325 - accuracy: 0.9910 - val_loss: 0.0446 - val_accuracy: 0.9889\n"
     ]
    }
   ],
   "source": [
    "history = model.fit(\n",
    "    train_generator,\n",
    "    epochs=10,\n",
    "    validation_data=val_generator,\n",
    "    callbacks=[checkpoint]\n",
    ")"
   ]
  },
  {
   "cell_type": "code",
   "execution_count": 22,
   "metadata": {},
   "outputs": [],
   "source": [
    "model.load_weights('best_model.h5')"
   ]
  },
  {
   "cell_type": "code",
   "execution_count": 23,
   "metadata": {},
   "outputs": [],
   "source": [
    "model.save('complete_model.h5')"
   ]
  }
 ],
 "metadata": {
  "kernelspec": {
   "display_name": "Python 3",
   "language": "python",
   "name": "python3"
  },
  "language_info": {
   "codemirror_mode": {
    "name": "ipython",
    "version": 3
   },
   "file_extension": ".py",
   "mimetype": "text/x-python",
   "name": "python",
   "nbconvert_exporter": "python",
   "pygments_lexer": "ipython3",
   "version": "3.9.13"
  }
 },
 "nbformat": 4,
 "nbformat_minor": 2
}
